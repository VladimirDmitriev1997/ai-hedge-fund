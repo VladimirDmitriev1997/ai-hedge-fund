{
 "cells": [
  {
   "cell_type": "markdown",
   "id": "8259a012",
   "metadata": {},
   "source": [
    "# Single asset strategy test\n",
    "\n"
   ]
  },
  {
   "cell_type": "code",
   "execution_count": 1,
   "id": "57fcf9df",
   "metadata": {},
   "outputs": [],
   "source": [
    "\n",
    "import sys, os\n",
    "from pathlib import Path\n",
    "\n",
    "\n",
    "PROJECT_ROOT = Path(\"..\").resolve()\n",
    "SRC_DIR = PROJECT_ROOT / \"src\"\n",
    "if SRC_DIR.exists() and str(SRC_DIR) not in sys.path:\n",
    "    sys.path.insert(0, str(SRC_DIR))\n",
    "\n",
    "\n",
    "DATA_DIR = PROJECT_ROOT / \"data\"\n",
    "DATA_DIR.mkdir(parents=True, exist_ok=True)\n",
    "\n",
    "\n",
    "from hedge.data import (\n",
    "    DataScheme,\n",
    "    load_ohlcv_by_code,\n",
    "    download_binance_ohlcv_csv,\n",
    "    ensure_ohlcv_dataset,   \n",
    ")\n",
    "from hedge.run import train_on_csv, run_on_csv\n",
    "from hedge.strategies import SingleAssetMACrossover\n",
    "from hedge.portfolio import CASH_COL\n",
    "from hedge import viz\n",
    "\n",
    "\n",
    "import pandas as pd\n",
    "import numpy as np\n"
   ]
  },
  {
   "cell_type": "code",
   "execution_count": 13,
   "id": "d0bbdf32",
   "metadata": {},
   "outputs": [],
   "source": [
    "# --- USER PARAMETERS ---\n",
    "SYMBOL      = \"BTCUSDT\"     \n",
    "INTERVAL    = \"1h\"         \n",
    "START       = \"2024-01-01\"  \n",
    "END         = None          \n",
    "TRAIN_END   = \"2024-06-01\"  \n",
    "\n",
    "\n",
    "STRAT_NAME = \"single-asset-ma-crossover\"\n",
    "STRAT_PARAMS = dict(\n",
    "    asset=SYMBOL,\n",
    "    price_field=\"close\",\n",
    "    fast_window=20,\n",
    "    slow_window=50,\n",
    "    w_long=1.0,\n",
    "    w_short=0.0,      \n",
    "    clip_per_asset=1.0,\n",
    "    warmup_bars=50,   \n",
    "    trade_lag_bars=1,\n",
    "    rebalance_every=None,\n",
    ")\n",
    "\n",
    "# raw CSV\n",
    "CSV_PATH = DATA_DIR / f\"{SYMBOL}_{INTERVAL}.csv\"\n",
    "\n",
    "FORCE_DOWNLOAD = False"
   ]
  },
  {
   "cell_type": "code",
   "execution_count": 14,
   "id": "42c85e73",
   "metadata": {},
   "outputs": [
    {
     "ename": "RuntimeError",
     "evalue": "Binance returned rows, but all were invalid/NaN.",
     "output_type": "error",
     "traceback": [
      "\u001b[31m---------------------------------------------------------------------------\u001b[39m",
      "\u001b[31mRuntimeError\u001b[39m                              Traceback (most recent call last)",
      "\u001b[36mCell\u001b[39m\u001b[36m \u001b[39m\u001b[32mIn[14]\u001b[39m\u001b[32m, line 1\u001b[39m\n\u001b[32m----> \u001b[39m\u001b[32m1\u001b[39m code, path = \u001b[43mensure_ohlcv_dataset\u001b[49m\u001b[43m(\u001b[49m\u001b[43mSYMBOL\u001b[49m\u001b[43m,\u001b[49m\u001b[43m \u001b[49m\u001b[43mINTERVAL\u001b[49m\u001b[43m,\u001b[49m\u001b[43m \u001b[49m\u001b[43mSTART\u001b[49m\u001b[43m,\u001b[49m\u001b[43m \u001b[49m\u001b[43mEND\u001b[49m\u001b[43m,\u001b[49m\u001b[43m \u001b[49m\u001b[43mdata_dir\u001b[49m\u001b[43m=\u001b[49m\u001b[33;43m\"\u001b[39;49m\u001b[33;43mdata\u001b[39;49m\u001b[33;43m\"\u001b[39;49m\u001b[43m)\u001b[49m\n\u001b[32m      3\u001b[39m \u001b[38;5;28mprint\u001b[39m(code, path)\n\u001b[32m      4\u001b[39m \u001b[38;5;66;03m# Load & validate\u001b[39;00m\n",
      "\u001b[36mFile \u001b[39m\u001b[32m~/Desktop/ai-hedge-fund/src/hedge/data.py:482\u001b[39m, in \u001b[36mensure_ohlcv_dataset\u001b[39m\u001b[34m(symbol, interval, start, end, data_dir, overwrite, limit_per_call, request_pause_sec)\u001b[39m\n\u001b[32m    479\u001b[39m     code = max_code + \u001b[32m1\u001b[39m\n\u001b[32m    481\u001b[39m \u001b[38;5;66;03m# fetch\u001b[39;00m\n\u001b[32m--> \u001b[39m\u001b[32m482\u001b[39m df = \u001b[43mfetch_binance_ohlcv_df\u001b[49m\u001b[43m(\u001b[49m\n\u001b[32m    483\u001b[39m \u001b[43m    \u001b[49m\u001b[43msymbol\u001b[49m\u001b[43m=\u001b[49m\u001b[43msymbol\u001b[49m\u001b[43m,\u001b[49m\n\u001b[32m    484\u001b[39m \u001b[43m    \u001b[49m\u001b[43minterval\u001b[49m\u001b[43m=\u001b[49m\u001b[43minterval\u001b[49m\u001b[43m,\u001b[49m\n\u001b[32m    485\u001b[39m \u001b[43m    \u001b[49m\u001b[43mstart\u001b[49m\u001b[43m=\u001b[49m\u001b[43mstart\u001b[49m\u001b[43m,\u001b[49m\n\u001b[32m    486\u001b[39m \u001b[43m    \u001b[49m\u001b[43mend\u001b[49m\u001b[43m=\u001b[49m\u001b[43mend\u001b[49m\u001b[43m,\u001b[49m\n\u001b[32m    487\u001b[39m \u001b[43m    \u001b[49m\u001b[43mlimit_per_call\u001b[49m\u001b[43m=\u001b[49m\u001b[43mlimit_per_call\u001b[49m\u001b[43m,\u001b[49m\n\u001b[32m    488\u001b[39m \u001b[43m    \u001b[49m\u001b[43mrequest_pause_sec\u001b[49m\u001b[43m=\u001b[49m\u001b[43mrequest_pause_sec\u001b[49m\u001b[43m,\u001b[49m\n\u001b[32m    489\u001b[39m \u001b[43m\u001b[49m\u001b[43m)\u001b[49m\n\u001b[32m    491\u001b[39m \u001b[38;5;66;03m# write dataset\u001b[39;00m\n\u001b[32m    492\u001b[39m path = data_dir / \u001b[33mf\u001b[39m\u001b[33m\"\u001b[39m\u001b[38;5;132;01m{\u001b[39;00mcode\u001b[38;5;132;01m}\u001b[39;00m\u001b[33m.csv\u001b[39m\u001b[33m\"\u001b[39m\n",
      "\u001b[36mFile \u001b[39m\u001b[32m~/Desktop/ai-hedge-fund/src/hedge/data.py:308\u001b[39m, in \u001b[36mfetch_binance_ohlcv_df\u001b[39m\u001b[34m(symbol, interval, start, end, limit_per_call, request_pause_sec)\u001b[39m\n\u001b[32m    306\u001b[39m out = out[~out.index.duplicated(keep=\u001b[33m\"\u001b[39m\u001b[33mlast\u001b[39m\u001b[33m\"\u001b[39m)].dropna(how=\u001b[33m\"\u001b[39m\u001b[33many\u001b[39m\u001b[33m\"\u001b[39m)\n\u001b[32m    307\u001b[39m \u001b[38;5;28;01mif\u001b[39;00m \u001b[38;5;28mlen\u001b[39m(out) == \u001b[32m0\u001b[39m:\n\u001b[32m--> \u001b[39m\u001b[32m308\u001b[39m     \u001b[38;5;28;01mraise\u001b[39;00m \u001b[38;5;167;01mRuntimeError\u001b[39;00m(\u001b[33m\"\u001b[39m\u001b[33mBinance returned rows, but all were invalid/NaN.\u001b[39m\u001b[33m\"\u001b[39m)\n\u001b[32m    310\u001b[39m \u001b[38;5;66;03m# Sanity checks\u001b[39;00m\n\u001b[32m    311\u001b[39m \u001b[38;5;28;01mif\u001b[39;00m (out[[\u001b[33m\"\u001b[39m\u001b[33mopen\u001b[39m\u001b[33m\"\u001b[39m, \u001b[33m\"\u001b[39m\u001b[33mhigh\u001b[39m\u001b[33m\"\u001b[39m, \u001b[33m\"\u001b[39m\u001b[33mlow\u001b[39m\u001b[33m\"\u001b[39m, \u001b[33m\"\u001b[39m\u001b[33mclose\u001b[39m\u001b[33m\"\u001b[39m]] < \u001b[32m0\u001b[39m).any().any():\n",
      "\u001b[31mRuntimeError\u001b[39m: Binance returned rows, but all were invalid/NaN."
     ]
    }
   ],
   "source": [
    "\n",
    "code, path = ensure_ohlcv_dataset(SYMBOL, INTERVAL, START, END, data_dir=\"data\")\n",
    "\n",
    "print(code, path)\n",
    "# Load & validate\n",
    "df = load_ohlcv_by_code(code, data_dir=\"data\")\n",
    "print(df.head(3))\n",
    "print(df.tail(3))\n",
    "print(\"Rows:\", len(df), \"| Index tz:\", df.index.tz)\n",
    "\n",
    "if viz.plot_price_or_candles:\n",
    "    viz.plot_price_or_candles(df, asset=SYMBOL, mode=\"candles\")  # or kind=\"line\"\n",
    "else:\n",
    "    ax = df[\"close\"].plot(title=f\"{SYMBOL} {INTERVAL} close\")\n",
    "    ax.set_xlabel(\"time\"); ax.set_ylabel(\"price\")\n"
   ]
  },
  {
   "cell_type": "code",
   "execution_count": null,
   "id": "272853f5",
   "metadata": {},
   "outputs": [],
   "source": []
  }
 ],
 "metadata": {
  "kernelspec": {
   "display_name": "hedge",
   "language": "python",
   "name": "python3"
  },
  "language_info": {
   "codemirror_mode": {
    "name": "ipython",
    "version": 3
   },
   "file_extension": ".py",
   "mimetype": "text/x-python",
   "name": "python",
   "nbconvert_exporter": "python",
   "pygments_lexer": "ipython3",
   "version": "3.12.11"
  }
 },
 "nbformat": 4,
 "nbformat_minor": 5
}
